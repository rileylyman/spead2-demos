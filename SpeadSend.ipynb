{
 "cells": [
  {
   "cell_type": "markdown",
   "metadata": {},
   "source": [
    "Let's get started sending some Spead data by importing the necessary libraries."
   ]
  },
  {
   "cell_type": "code",
   "execution_count": null,
   "metadata": {},
   "outputs": [],
   "source": [
    "import spead2\n",
    "import spead2.send\n",
    "import numpy as np"
   ]
  },
  {
   "cell_type": "markdown",
   "metadata": {},
   "source": [
    "As with receiving, we need a `ThreadPool` in order to instantiate a stream. A `ThreadPool` is a collection of C threads, which allows the Spead2 library to send and receive data."
   ]
  },
  {
   "cell_type": "code",
   "execution_count": null,
   "metadata": {},
   "outputs": [],
   "source": [
    "thread_pool = spead2.ThreadPool()"
   ]
  },
  {
   "cell_type": "markdown",
   "metadata": {},
   "source": [
    "The `spead2.send.StreamConfig` class handles is a struct-like object which encapsulates a users choice of stream parameters. The only thing we are going to change from the default value is the send rate, which we will set to `1e7`. The other defaults are: \n",
    "    `max_packet_size=1472`, \n",
    "    `rate=0.0`, \n",
    "    `burst_size=65535`, and \n",
    "    `max_heaps=4`. \n",
    "For our purposes, we can ignore these optional parameters. If you would like to dive deeper, however, you can read more at https://spead2.readthedocs.io/en/latest/py-send.html#spead2.send.StreamConfig"
   ]
  },
  {
   "cell_type": "code",
   "execution_count": null,
   "metadata": {},
   "outputs": [],
   "source": [
    "stream_config = spead2.send.StreamConfig(rate=1e7)"
   ]
  },
  {
   "cell_type": "markdown",
   "metadata": {},
   "source": [
    "We can now instantiate a `UdpStream` which we will use to send Spead data. We must pass in the `ThreadPool` to which it belongs, the Ipv4 address and the port we wish to send data to, and finally the `StreamConfig` object we just created. "
   ]
  },
  {
   "cell_type": "code",
   "execution_count": null,
   "metadata": {},
   "outputs": [],
   "source": [
    "stream = spead2.send.UdpStream(thread_pool, \"10.0.1.112\", 8888, stream_config)"
   ]
  },
  {
   "cell_type": "markdown",
   "metadata": {},
   "source": [
    "The Spead protocol states that to send data, we create `Item` objects, which are accumulated together into `ItemGroups`, and finally chunked into manageable `Heaps` to be sent across the network. We now create a `spead2.send.ItemGroup`, to which we will add our data in the form of `Item`s. The `ItemGroup` will then expose some methods which allow us to easily create `Heap`s which we can send over our stream. "
   ]
  },
  {
   "cell_type": "code",
   "execution_count": null,
   "metadata": {},
   "outputs": [],
   "source": [
    "item_group = spead2.send.ItemGroup()"
   ]
  },
  {
   "cell_type": "markdown",
   "metadata": {},
   "source": [
    "To add an `Item` to our `ItemGroup`, we also have to associate to this `Item` an `ItemDescriptor`. The `ItemDescriptor` contains the item's ID, name, description, shape, and Numpy data type. We can create an `ItemDescriptor` and add it to our `ItemGroup` all at once using the `ItemGroup.add_item` method."
   ]
  },
  {
   "cell_type": "code",
   "execution_count": null,
   "metadata": {},
   "outputs": [],
   "source": [
    "# this method adds an item descriptor to item_group, and returns the item to us\n",
    "item = item_group.add_item( 0x1000, \"number\",   \"just some large number\", (),         dtype=np.uint32)\n",
    "#                          item ID  item name   item description          itemShape   item data type"
   ]
  },
  {
   "cell_type": "markdown",
   "metadata": {},
   "source": [
    "We can now add a value to the `Item` returned from `ItemGroup.add_item`. This change will automagically show up within our `ItemGroup`."
   ]
  },
  {
   "cell_type": "code",
   "execution_count": null,
   "metadata": {},
   "outputs": [],
   "source": [
    "item.value = 0xDEADBEEF"
   ]
  },
  {
   "cell_type": "markdown",
   "metadata": {},
   "source": [
    "We now instantiate a `HeapGenerator` object, which takes in an `ItemGroup` and allows us to chunk our `ItemGroup` into heaps which we can then send over the network. A `HeapGenerator` will track the `ItemGroup` it is instantiated with, meaning that if you update your `ItemGroup` by adding anything to it or changing the values of any items within it, the `HeapGenerator` will include these changes in the next heap you generate. The `HeapGenerator` class is complex and has some optional parameters that you may want to read about here: https://spead2.readthedocs.io/en/latest/py-send.html?highlight=HeapGenerator#spead2.send.HeapGenerator"
   ]
  },
  {
   "cell_type": "code",
   "execution_count": null,
   "metadata": {},
   "outputs": [],
   "source": [
    "heap_generator = spead2.send.HeapGenerator(item_group)"
   ]
  },
  {
   "cell_type": "markdown",
   "metadata": {},
   "source": [
    "To send a heap with our `HeapGenerator` and `UdpStream` is pretty straightforward. Take a look:"
   ]
  },
  {
   "cell_type": "code",
   "execution_count": null,
   "metadata": {},
   "outputs": [],
   "source": [
    "stream.send_heap(heap_generator.get_heap())"
   ]
  },
  {
   "cell_type": "markdown",
   "metadata": {},
   "source": [
    "Once we are done sending all of our data and would like to let the receiver know that it can stop listening, we can send an end-of-heap marker. If you are using the Spead2 receiver from the other part of this tutorial, this will cause the receiver to stop listening for data and begin to print out what is has received. "
   ]
  },
  {
   "cell_type": "code",
   "execution_count": null,
   "metadata": {},
   "outputs": [],
   "source": [
    "stream.send_heap(heap_generator.get_end())"
   ]
  },
  {
   "cell_type": "markdown",
   "metadata": {},
   "source": [
    "That's it for some simple sending. You now know the basics of the Spead2 API, and should you want to dive in deeper, can head over to https://spead2.readthedocs.io/en/latest/ to learn more about the advanced features the library has to offer."
   ]
  }
 ],
 "metadata": {
  "kernelspec": {
   "display_name": "Python 3",
   "language": "python",
   "name": "python3"
  },
  "language_info": {
   "codemirror_mode": {
    "name": "ipython",
    "version": 3
   },
   "file_extension": ".py",
   "mimetype": "text/x-python",
   "name": "python",
   "nbconvert_exporter": "python",
   "pygments_lexer": "ipython3",
   "version": "3.6.5"
  }
 },
 "nbformat": 4,
 "nbformat_minor": 2
}
