{
 "cells": [
  {
   "cell_type": "markdown",
   "metadata": {},
   "source": [
    "Let's first create a simple receiver using the Spead2 library. We'll need to import `spead2` and `spead2.recv`.\n"
   ]
  },
  {
   "cell_type": "code",
   "execution_count": null,
   "metadata": {},
   "outputs": [],
   "source": [
    "import spead2\n",
    "import spead2.recv"
   ]
  },
  {
   "cell_type": "markdown",
   "metadata": {},
   "source": [
    "A `ThreadPool` is what the Spead2 library uses to manage C threads, which we can attach streams to in order to send and receive data. Streams require a `ThreadPool` argument when constructed, which means we need one even if we only plan on using one stream."
   ]
  },
  {
   "cell_type": "code",
   "execution_count": null,
   "metadata": {},
   "outputs": [],
   "source": [
    "thread_pool = spead2.ThreadPool()"
   ]
  },
  {
   "cell_type": "markdown",
   "metadata": {},
   "source": [
    "In a larger scale application, we could at this point instantiate a `spead2.MemoryPool` . This would allow us to block off a section of memory for incoming data to be quickly stored to. We will not use them in this small example, but you can read more about them at this link: https://spead2.readthedocs.io/en/latest/py-recv.html#spead2.MemoryPool\n"
   ]
  },
  {
   "cell_type": "markdown",
   "metadata": {},
   "source": [
    "We now create a receiving `spead2.recv.Stream` linked to our ThreadPool . This abstraction will handle the capture of all Spead packets and allow us to easily convert it to a useful form.\n"
   ]
  },
  {
   "cell_type": "code",
   "execution_count": null,
   "metadata": {},
   "outputs": [],
   "source": [
    "stream = spead2.recv.Stream(thread_pool)"
   ]
  },
  {
   "cell_type": "markdown",
   "metadata": {},
   "source": [
    "We listen on port 8888 for any udp traffic.\n"
   ]
  },
  {
   "cell_type": "code",
   "execution_count": null,
   "metadata": {},
   "outputs": [],
   "source": [
    "stream.add_udp_reader(8888)"
   ]
  },
  {
   "cell_type": "markdown",
   "metadata": {},
   "source": [
    "Our stream will now begin to collect data in the form of Spead2 Heaps, which are defined in the protocol. Spead2 provides us with a class, `spead2.ItemGroup`, which handles the parsing of the heaps into a more workable form, namely `spead2.Item`s. An `ItemGroup` will accumulate a set of `Item`s which correspond to the data that was sent to us.\n"
   ]
  },
  {
   "cell_type": "code",
   "execution_count": null,
   "metadata": {},
   "outputs": [],
   "source": [
    "item_group = spead2.ItemGroup()"
   ]
  },
  {
   "cell_type": "markdown",
   "metadata": {},
   "source": [
    "The `Stream.next()` method will wait until it reconstructs an entire heap before returning it, at which point we can use the `ItemGroup.update` method to begin processing the heap into its constituent items. The `Stream.next()` method will block program execution until such a heap arrives, and will raise `spead2.Stopped` if it encounters an end-of-heap marker.\n"
   ]
  },
  {
   "cell_type": "code",
   "execution_count": null,
   "metadata": {},
   "outputs": [],
   "source": [
    "for received_heap in stream:\n",
    "    item_group.update(stream)"
   ]
  },
  {
   "cell_type": "markdown",
   "metadata": {},
   "source": [
    "At this point, we can close the stream."
   ]
  },
  {
   "cell_type": "code",
   "execution_count": null,
   "metadata": {},
   "outputs": [],
   "source": [
    "stream.stop()"
   ]
  },
  {
   "cell_type": "markdown",
   "metadata": {},
   "source": [
    "We can get a dictionary of `Item`s from our `ItemGroup` with its `ItemGroup.items` method. Let's try printing their names and values.\n"
   ]
  },
  {
   "cell_type": "code",
   "execution_count": null,
   "metadata": {},
   "outputs": [],
   "source": [
    "for (key, item) in item_group.items():\n",
    "    print(item.name, \":\", item.value)"
   ]
  },
  {
   "cell_type": "markdown",
   "metadata": {},
   "source": [
    "Those are the basics of receiving data in Spead2. To dive deeper into receiving, you can read through the documentation at https://spead2.readthedocs.io/en/latest/py-recv.html\n"
   ]
  },
  {
   "cell_type": "code",
   "execution_count": null,
   "metadata": {},
   "outputs": [],
   "source": []
  }
 ],
 "metadata": {
  "kernelspec": {
   "display_name": "Python 3",
   "language": "python",
   "name": "python3"
  },
  "language_info": {
   "codemirror_mode": {
    "name": "ipython",
    "version": 3
   },
   "file_extension": ".py",
   "mimetype": "text/x-python",
   "name": "python",
   "nbconvert_exporter": "python",
   "pygments_lexer": "ipython3",
   "version": "3.6.5"
  }
 },
 "nbformat": 4,
 "nbformat_minor": 2
}
