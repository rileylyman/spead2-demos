{
 "cells": [
  {
   "cell_type": "markdown",
   "metadata": {},
   "source": [
    "This tutorial will teach you the basics of data transfer using the Streaming Protocol for the Exchange of Astronomical Data (SPEAD). We will use the Spead2 library for Python, which has documentation available at [this link](https://spead2.readthedocs.io/en/latest). We need both a sender and a receiver to transfer data between machines;  in this part, we will implement a basic receiver. After installing Spead2, we'll need to import `spead2` and `spead2.recv`.\n"
   ]
  },
  {
   "cell_type": "code",
   "execution_count": null,
   "metadata": {},
   "outputs": [],
   "source": [
    "import spead2\n",
    "import spead2.recv"
   ]
  },
  {
   "cell_type": "markdown",
   "metadata": {},
   "source": [
    "A `ThreadPool` is what the Spead2 library uses to manage C threads. `Stream`s require a `ThreadPool` argument when constructed, which means we need one even if we only plan on using one stream."
   ]
  },
  {
   "cell_type": "code",
   "execution_count": null,
   "metadata": {},
   "outputs": [],
   "source": [
    "thread_pool = spead2.ThreadPool()"
   ]
  },
  {
   "cell_type": "markdown",
   "metadata": {},
   "source": [
    "In a larger scale application, we could at this point instantiate a [spead2.MemoryPool](https://spead2.readthedocs.io/en/latest/py-recv.html#spead2.MemoryPool) object. This would allow us to block off a section of memory for incoming data to be quickly stored to. For this example, however, creating one is not necessary.\n"
   ]
  },
  {
   "cell_type": "markdown",
   "metadata": {},
   "source": [
    "We now create a `spead2.recv.Stream` linked to our ThreadPool . This abstraction will handle the capture of all SPEAD packets and allow us to easily convert them into a useful form.\n"
   ]
  },
  {
   "cell_type": "code",
   "execution_count": null,
   "metadata": {},
   "outputs": [],
   "source": [
    "stream = spead2.recv.Stream(thread_pool)"
   ]
  },
  {
   "cell_type": "markdown",
   "metadata": {},
   "source": [
    "We listen on port 8888 for any udp traffic.\n"
   ]
  },
  {
   "cell_type": "code",
   "execution_count": null,
   "metadata": {},
   "outputs": [],
   "source": [
    "stream.add_udp_reader(8888)"
   ]
  },
  {
   "cell_type": "markdown",
   "metadata": {},
   "source": [
    "Our stream will now begin to collect data in the form of [Spead2 Heaps](https://spead2.readthedocs.io/en/latest/py-recv.html#spead2.recv.Heap), which are defined in the protocol. Spead2 provides us with a class, `spead2.ItemGroup`, which handles the parsing of the heaps into a more workable form, namely `spead2.Item`s. An `ItemGroup` will accumulate the `Item`s sent to us.\n"
   ]
  },
  {
   "cell_type": "code",
   "execution_count": null,
   "metadata": {},
   "outputs": [],
   "source": [
    "item_group = spead2.ItemGroup()"
   ]
  },
  {
   "cell_type": "markdown",
   "metadata": {},
   "source": [
    "The `Stream.next()` method will wait until it reconstructs an entire heap before returning it, at which point we can use the `ItemGroup.update` method to begin processing the heap into its constituent items. The `Stream.next()` method will block program execution until such a heap arrives, and will raise `spead2.Stopped` if it encounters an [end-of-heap marker](https://spead2.readthedocs.io/en/latest/py-recv.html#spead2.recv.Heap).\n"
   ]
  },
  {
   "cell_type": "code",
   "execution_count": null,
   "metadata": {},
   "outputs": [],
   "source": [
    "for received_heap in stream:\n",
    "    item_group.update(stream)"
   ]
  },
  {
   "cell_type": "markdown",
   "metadata": {},
   "source": [
    "At this point, we can close the stream."
   ]
  },
  {
   "cell_type": "code",
   "execution_count": null,
   "metadata": {},
   "outputs": [],
   "source": [
    "stream.stop()"
   ]
  },
  {
   "cell_type": "markdown",
   "metadata": {},
   "source": [
    "We can get a dictionary of `Item`s from our `ItemGroup` with its `ItemGroup.items` method. Let's try printing their names and values.\n"
   ]
  },
  {
   "cell_type": "code",
   "execution_count": null,
   "metadata": {},
   "outputs": [],
   "source": [
    "for (key, item) in item_group.items():\n",
    "    print(item.name, \":\", item.value)"
   ]
  },
  {
   "cell_type": "markdown",
   "metadata": {},
   "source": [
    "That's it for some simple receiving. Now that you know the basics of the Spead2 Receiving API, you can head over to [this link](https://spead2.readthedocs.io/en/latest/) to learn more about the advanced features the library has to offer.\n"
   ]
  },
  {
   "cell_type": "code",
   "execution_count": null,
   "metadata": {},
   "outputs": [],
   "source": []
  }
 ],
 "metadata": {
  "kernelspec": {
   "display_name": "Python 2",
   "language": "python",
   "name": "python2"
  },
  "language_info": {
   "codemirror_mode": {
    "name": "ipython",
    "version": 2
   },
   "file_extension": ".py",
   "mimetype": "text/x-python",
   "name": "python",
   "nbconvert_exporter": "python",
   "pygments_lexer": "ipython2",
   "version": "2.7.15rc1"
  }
 },
 "nbformat": 4,
 "nbformat_minor": 2
}
